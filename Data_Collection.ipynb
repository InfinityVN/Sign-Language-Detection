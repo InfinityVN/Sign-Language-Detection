{
 "cells": [
  {
   "cell_type": "code",
   "execution_count": null,
   "id": "910b2669",
   "metadata": {
    "scrolled": true
   },
   "outputs": [],
   "source": [
    "pip install opencv-python"
   ]
  },
  {
   "cell_type": "code",
   "execution_count": null,
   "id": "07e8a1c9",
   "metadata": {},
   "outputs": [],
   "source": [
    "pip install --user mediapipe"
   ]
  },
  {
   "cell_type": "code",
   "execution_count": 31,
   "id": "33c1cf09",
   "metadata": {},
   "outputs": [],
   "source": [
    "import cv2\n",
    "import mediapipe as mp\n",
    "import time\n",
    "import os\n",
    "import threading\n",
    "import json"
   ]
  },
  {
   "cell_type": "code",
   "execution_count": 32,
   "id": "f1ea6c50",
   "metadata": {},
   "outputs": [],
   "source": [
    "# Function to display text and hand landmarks on the video frame\n",
    "def display_info(frame, text, landmarks, sample_count, num_samples_per_expression):\n",
    "    cv2.putText(frame, text, (50, 50), cv2.FONT_HERSHEY_SIMPLEX, 1, (0, 255, 0), 2)\n",
    "    cv2.putText(frame, f\"Sample {sample_count}/{num_samples_per_expression}\", (50, 100), cv2.FONT_HERSHEY_SIMPLEX, 1, (0, 255, 0), 2)\n",
    "    for landmark in landmarks:\n",
    "        x, y = int(landmark.x * frame.shape[1]), int(landmark.y * frame.shape[0])\n",
    "        cv2.circle(frame, (x, y), 5, (0, 0, 255), -1)"
   ]
  },
  {
   "cell_type": "code",
   "execution_count": 33,
   "id": "9eedde6d",
   "metadata": {},
   "outputs": [],
   "source": [
    "# Function to collect data for each expression\n",
    "def collect_data():\n",
    "    expressions = [\"hello\", \"thank_you\", \"sorry\", \"goodbye\"]\n",
    "    num_samples_per_expression = 300  # Change the number of samples to 300\n",
    "    interval_seconds = 2\n",
    "\n",
    "    # Initialize MediaPipe Hands\n",
    "    mp_hands = mp.solutions.hands.Hands(static_image_mode=False, max_num_hands=2, min_detection_confidence=0.5)\n",
    "\n",
    "    # Start capturing video from the camera\n",
    "    cap = cv2.VideoCapture(0)\n",
    "\n",
    "    # Get frame dimensions for visualization\n",
    "    frame_width, frame_height = 640, 480  # Adjust as needed\n",
    "    cap.set(cv2.CAP_PROP_FRAME_WIDTH, frame_width)\n",
    "    cap.set(cv2.CAP_PROP_FRAME_HEIGHT, frame_height)\n",
    "\n",
    "    for expression in expressions:\n",
    "        expression_dir = f\"data/{expression}\"\n",
    "        if not os.path.exists(expression_dir):\n",
    "            os.makedirs(expression_dir)\n",
    "\n",
    "    expression_count = 0\n",
    "    sample_count = 0\n",
    "    current_expression = expressions[expression_count]\n",
    "\n",
    "    # Create a dictionary to store hand landmark data\n",
    "    landmark_data = {}\n",
    "\n",
    "    while expression_count < len(expressions):\n",
    "        ret, frame = cap.read()\n",
    "        if not ret:\n",
    "            break\n",
    "\n",
    "        frame_rgb = cv2.cvtColor(frame, cv2.COLOR_BGR2RGB)\n",
    "\n",
    "        # Detect hand landmarks\n",
    "        results = mp_hands.process(frame_rgb)\n",
    "\n",
    "        if results.multi_hand_landmarks:\n",
    "            for hand_landmarks in results.multi_hand_landmarks:\n",
    "                display_info(frame, f\"Collecting data for: {current_expression}\", hand_landmarks.landmark, sample_count, num_samples_per_expression)\n",
    "\n",
    "                # Save the frame as an image and the hand landmarks as JSON\n",
    "                image_filename = f\"data/{current_expression}/{sample_count + 1}.png\"\n",
    "                json_filename = f\"data/{current_expression}/{sample_count + 1}.json\"\n",
    "                cv2.imwrite(image_filename, frame)\n",
    "                landmark_data['hand_landmarks'] = [(landmark.x, landmark.y, landmark.z) for landmark in hand_landmarks.landmark]\n",
    "                with open(json_filename, 'w') as f:\n",
    "                    json.dump(landmark_data, f)\n",
    "\n",
    "                sample_count += 1\n",
    "                if sample_count >= num_samples_per_expression:\n",
    "                    expression_count += 1\n",
    "                    if expression_count >= len(expressions):\n",
    "                        break\n",
    "                    current_expression = expressions[expression_count]\n",
    "                    sample_count = 0\n",
    "\n",
    "        cv2.imshow(\"Data Collection\", frame)\n",
    "\n",
    "        if cv2.waitKey(1) & 0xFF == ord(\"q\"):  # Exit when 'q' key is pressed\n",
    "            break\n",
    "\n",
    "    print(\"Data collection completed.\")\n",
    "\n",
    "    # Release the camera and close OpenCV windows\n",
    "    cap.release()\n",
    "    cv2.destroyAllWindows()"
   ]
  },
  {
   "cell_type": "code",
   "execution_count": 34,
   "id": "1ea883af",
   "metadata": {
    "scrolled": true
   },
   "outputs": [
    {
     "name": "stdout",
     "output_type": "stream",
     "text": [
      "Data collection completed.\n"
     ]
    }
   ],
   "source": [
    "collect_data()"
   ]
  },
  {
   "cell_type": "code",
   "execution_count": null,
   "id": "d698d562",
   "metadata": {},
   "outputs": [],
   "source": []
  }
 ],
 "metadata": {
  "kernelspec": {
   "display_name": "Python 3 (ipykernel)",
   "language": "python",
   "name": "python3"
  },
  "language_info": {
   "codemirror_mode": {
    "name": "ipython",
    "version": 3
   },
   "file_extension": ".py",
   "mimetype": "text/x-python",
   "name": "python",
   "nbconvert_exporter": "python",
   "pygments_lexer": "ipython3",
   "version": "3.9.13"
  }
 },
 "nbformat": 4,
 "nbformat_minor": 5
}
